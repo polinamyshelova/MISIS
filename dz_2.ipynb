{
 "cells": [
  {
   "cell_type": "code",
   "execution_count": 3,
   "id": "f22d6aaf",
   "metadata": {},
   "outputs": [
    {
     "name": "stdout",
     "output_type": "stream",
     "text": [
      "5\n",
      "май\n"
     ]
    }
   ],
   "source": [
    "#  Задание 1\n",
    "\n",
    "month = int(input())\n",
    "calendar = {1: \"январь\", 2: \"февраль\", 3: \"март\", 4: \"апрель\", 5: \"май\", 6: \"июнь\", 7: \"июль\", 8: \"август\", 9: \"сентябрь\",\n",
    "           10: \"октябрь\", 11: \"ноябрь\", 12: \"декабрь\"}\n",
    "print(calendar[month])"
   ]
  },
  {
   "cell_type": "code",
   "execution_count": 4,
   "id": "db546ee3",
   "metadata": {},
   "outputs": [
    {
     "name": "stdout",
     "output_type": "stream",
     "text": [
      "60\n",
      "48\n",
      "12\n"
     ]
    }
   ],
   "source": [
    "# Задание 2\n",
    "\n",
    "from math import gcd\n",
    "a, b = int(input()), int(input())\n",
    "print(gcd(a, b))"
   ]
  },
  {
   "cell_type": "code",
   "execution_count": 17,
   "id": "be06642d",
   "metadata": {},
   "outputs": [
    {
     "name": "stdout",
     "output_type": "stream",
     "text": [
      "gif\n"
     ]
    }
   ],
   "source": [
    "# Задание 3\n",
    "\n",
    "file='Моя диссертац.gif'\n",
    "i = file[::-1].index('.')\n",
    "extensions = ['png', 'jpg', 'jpeg', 'gif', 'svg']\n",
    "print(file[::-1][:i][::-1])"
   ]
  },
  {
   "cell_type": "code",
   "execution_count": 21,
   "id": "3d4198e7",
   "metadata": {},
   "outputs": [
    {
     "name": "stdout",
     "output_type": "stream",
     "text": [
      "2018\n",
      "невисокосный\n"
     ]
    }
   ],
   "source": [
    "# Задание 4\n",
    "\n",
    "x = int(input())\n",
    "print('високосный' if x % 4 == 0 and x % 100 != 0 or x % 400 == 0 else 'невисокосный')"
   ]
  }
 ],
 "metadata": {
  "kernelspec": {
   "display_name": "Python 3 (ipykernel)",
   "language": "python",
   "name": "python3"
  },
  "language_info": {
   "codemirror_mode": {
    "name": "ipython",
    "version": 3
   },
   "file_extension": ".py",
   "mimetype": "text/x-python",
   "name": "python",
   "nbconvert_exporter": "python",
   "pygments_lexer": "ipython3",
   "version": "3.9.12"
  }
 },
 "nbformat": 4,
 "nbformat_minor": 5
}
