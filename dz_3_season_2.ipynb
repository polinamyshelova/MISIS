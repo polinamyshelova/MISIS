{
 "cells": [
  {
   "cell_type": "code",
   "execution_count": 104,
   "id": "85b9800d",
   "metadata": {},
   "outputs": [],
   "source": [
    "import pandas as pd\n",
    "import numpy as np\n",
    "from sklearn.ensemble import RandomForestClassifier\n",
    "from sklearn.neighbors import KNeighborsClassifier\n",
    "from sklearn.model_selection import train_test_split\n",
    "from sklearn import metrics, svm"
   ]
  },
  {
   "cell_type": "code",
   "execution_count": 86,
   "id": "e1d1834c",
   "metadata": {},
   "outputs": [],
   "source": [
    "path = 'DataSet_w_NA (1).xlsx'\n",
    "df = pd.read_excel(path, sheet_name='Испорченные факты')"
   ]
  },
  {
   "cell_type": "code",
   "execution_count": 87,
   "id": "4759afee",
   "metadata": {},
   "outputs": [
    {
     "data": {
      "text/html": [
       "<div>\n",
       "<style scoped>\n",
       "    .dataframe tbody tr th:only-of-type {\n",
       "        vertical-align: middle;\n",
       "    }\n",
       "\n",
       "    .dataframe tbody tr th {\n",
       "        vertical-align: top;\n",
       "    }\n",
       "\n",
       "    .dataframe thead th {\n",
       "        text-align: right;\n",
       "    }\n",
       "</style>\n",
       "<table border=\"1\" class=\"dataframe\">\n",
       "  <thead>\n",
       "    <tr style=\"text-align: right;\">\n",
       "      <th></th>\n",
       "      <th>Номер заказа</th>\n",
       "      <th>Возврат</th>\n",
       "      <th>Дата заказа</th>\n",
       "      <th>Дата отправки</th>\n",
       "      <th>Режим отправки</th>\n",
       "      <th>Факты.Контрагент ID</th>\n",
       "      <th>Факты.Товар ID</th>\n",
       "      <th>Продажи, руб</th>\n",
       "      <th>Продажи, шт</th>\n",
       "      <th>Скидка</th>\n",
       "      <th>Маржинальная прибыль</th>\n",
       "      <th>Повторение заказа</th>\n",
       "      <th>Повторение контрагента</th>\n",
       "      <th>Повторение товара</th>\n",
       "    </tr>\n",
       "  </thead>\n",
       "  <tbody>\n",
       "    <tr>\n",
       "      <th>0</th>\n",
       "      <td>2014-100279</td>\n",
       "      <td>Нет</td>\n",
       "      <td>2015-09-10 00:00:00</td>\n",
       "      <td>2015-09-14 00:00:00</td>\n",
       "      <td>Стандарт</td>\n",
       "      <td>CLNT0000422</td>\n",
       "      <td>PROD0000870</td>\n",
       "      <td>11190.0</td>\n",
       "      <td>2.0</td>\n",
       "      <td>0.0</td>\n",
       "      <td>5371.20</td>\n",
       "      <td>1</td>\n",
       "      <td>7</td>\n",
       "      <td>3</td>\n",
       "    </tr>\n",
       "    <tr>\n",
       "      <th>1</th>\n",
       "      <td>2014-100293</td>\n",
       "      <td>Нет</td>\n",
       "      <td>2015-09-14 00:00:00</td>\n",
       "      <td>2015-09-18 00:00:00</td>\n",
       "      <td>Стандарт</td>\n",
       "      <td>CLNT0000784</td>\n",
       "      <td>PROD0000646</td>\n",
       "      <td>45528.0</td>\n",
       "      <td>6.0</td>\n",
       "      <td>0.2</td>\n",
       "      <td>15934.80</td>\n",
       "      <td>1</td>\n",
       "      <td>4</td>\n",
       "      <td>8</td>\n",
       "    </tr>\n",
       "    <tr>\n",
       "      <th>2</th>\n",
       "      <td>2014-100328</td>\n",
       "      <td>Нет</td>\n",
       "      <td>2015-07-28 00:00:00</td>\n",
       "      <td>2015-08-03 00:00:00</td>\n",
       "      <td>Стандарт</td>\n",
       "      <td>CLNT0000342</td>\n",
       "      <td>PROD0000187</td>\n",
       "      <td>1964.0</td>\n",
       "      <td>1.0</td>\n",
       "      <td>0.2</td>\n",
       "      <td>662.85</td>\n",
       "      <td>1</td>\n",
       "      <td>4</td>\n",
       "      <td>12</td>\n",
       "    </tr>\n",
       "    <tr>\n",
       "      <th>3</th>\n",
       "      <td>2014-100363</td>\n",
       "      <td>Нет</td>\n",
       "      <td>2015-10-08 00:00:00</td>\n",
       "      <td>2015-10-15 00:00:00</td>\n",
       "      <td>Стандарт</td>\n",
       "      <td>CLNT0000146</td>\n",
       "      <td>PROD0001095</td>\n",
       "      <td>1184.0</td>\n",
       "      <td>2.0</td>\n",
       "      <td>0.2</td>\n",
       "      <td>414.40</td>\n",
       "      <td>2</td>\n",
       "      <td>12</td>\n",
       "      <td>7</td>\n",
       "    </tr>\n",
       "    <tr>\n",
       "      <th>4</th>\n",
       "      <td>2014-100363</td>\n",
       "      <td>Нет</td>\n",
       "      <td>2015-10-08 00:00:00</td>\n",
       "      <td>2015-10-15 00:00:00</td>\n",
       "      <td>Стандарт</td>\n",
       "      <td>CLNT0000146</td>\n",
       "      <td>PROD0001616</td>\n",
       "      <td>9504.0</td>\n",
       "      <td>3.0</td>\n",
       "      <td>0.2</td>\n",
       "      <td>3445.20</td>\n",
       "      <td>2</td>\n",
       "      <td>12</td>\n",
       "      <td>3</td>\n",
       "    </tr>\n",
       "  </tbody>\n",
       "</table>\n",
       "</div>"
      ],
      "text/plain": [
       "  Номер заказа Возврат          Дата заказа        Дата отправки  \\\n",
       "0  2014-100279     Нет  2015-09-10 00:00:00  2015-09-14 00:00:00   \n",
       "1  2014-100293     Нет  2015-09-14 00:00:00  2015-09-18 00:00:00   \n",
       "2  2014-100328     Нет  2015-07-28 00:00:00  2015-08-03 00:00:00   \n",
       "3  2014-100363     Нет  2015-10-08 00:00:00  2015-10-15 00:00:00   \n",
       "4  2014-100363     Нет  2015-10-08 00:00:00  2015-10-15 00:00:00   \n",
       "\n",
       "  Режим отправки Факты.Контрагент ID Факты.Товар ID  Продажи, руб  \\\n",
       "0       Стандарт         CLNT0000422    PROD0000870       11190.0   \n",
       "1       Стандарт         CLNT0000784    PROD0000646       45528.0   \n",
       "2       Стандарт         CLNT0000342    PROD0000187        1964.0   \n",
       "3       Стандарт         CLNT0000146    PROD0001095        1184.0   \n",
       "4       Стандарт         CLNT0000146    PROD0001616        9504.0   \n",
       "\n",
       "   Продажи, шт  Скидка  Маржинальная прибыль  Повторение заказа  \\\n",
       "0          2.0     0.0               5371.20                  1   \n",
       "1          6.0     0.2              15934.80                  1   \n",
       "2          1.0     0.2                662.85                  1   \n",
       "3          2.0     0.2                414.40                  2   \n",
       "4          3.0     0.2               3445.20                  2   \n",
       "\n",
       "   Повторение контрагента  Повторение товара  \n",
       "0                       7                  3  \n",
       "1                       4                  8  \n",
       "2                       4                 12  \n",
       "3                      12                  7  \n",
       "4                      12                  3  "
      ]
     },
     "execution_count": 87,
     "metadata": {},
     "output_type": "execute_result"
    }
   ],
   "source": [
    "df.head()"
   ]
  },
  {
   "cell_type": "code",
   "execution_count": 88,
   "id": "809f7116",
   "metadata": {},
   "outputs": [
    {
     "data": {
      "text/plain": [
       "(10293, 14)"
      ]
     },
     "execution_count": 88,
     "metadata": {},
     "output_type": "execute_result"
    }
   ],
   "source": [
    "df.shape"
   ]
  },
  {
   "cell_type": "code",
   "execution_count": 89,
   "id": "2d8a804b",
   "metadata": {},
   "outputs": [
    {
     "data": {
      "text/plain": [
       "Номер заказа                0\n",
       "Возврат                     0\n",
       "Дата заказа                 0\n",
       "Дата отправки               0\n",
       "Режим отправки              0\n",
       "Факты.Контрагент ID        90\n",
       "Факты.Товар ID             51\n",
       "Продажи, руб              195\n",
       "Продажи, шт                21\n",
       "Скидка                      0\n",
       "Маржинальная прибыль       18\n",
       "Повторение заказа           0\n",
       "Повторение контрагента      0\n",
       "Повторение товара           0\n",
       "dtype: int64"
      ]
     },
     "execution_count": 89,
     "metadata": {},
     "output_type": "execute_result"
    }
   ],
   "source": [
    "df.isnull().sum()"
   ]
  },
  {
   "cell_type": "code",
   "execution_count": 91,
   "id": "7169a2ab",
   "metadata": {},
   "outputs": [],
   "source": [
    "df = df.dropna()"
   ]
  },
  {
   "cell_type": "code",
   "execution_count": 92,
   "id": "531256bc",
   "metadata": {},
   "outputs": [],
   "source": [
    "df = pd.pivot_table(df, values=['Продажи, руб', 'Продажи, шт','Повторение заказа', 'Маржинальная прибыль','Повторение товара'],\n",
    "                    index=[\"Факты.Товар ID\"], aggfunc={'Продажи, шт': [np.median, np.sum], 'Продажи, руб': np.sum, \n",
    "                                                       'Повторение заказа': np.sum, 'Маржинальная прибыль': np.sum})"
   ]
  },
  {
   "cell_type": "code",
   "execution_count": 93,
   "id": "c867f5d1",
   "metadata": {},
   "outputs": [],
   "source": [
    "df.columns = df.columns.map('_'.join)\n",
    "df = df.reset_index()"
   ]
  },
  {
   "cell_type": "code",
   "execution_count": 94,
   "id": "d7f916c7",
   "metadata": {},
   "outputs": [],
   "source": [
    "total_sale = df['Продажи, руб_sum'].sum()\n",
    "df['Доля'] = df['Продажи, руб_sum'] / total_sale * 100\n",
    "df = df.assign(sum_d=df['Доля'].cumsum())"
   ]
  },
  {
   "cell_type": "code",
   "execution_count": 95,
   "id": "10e29928",
   "metadata": {},
   "outputs": [],
   "source": [
    "df.loc[(df['sum_d'] <= 80), 'ABC'] = 'A'\n",
    "df.loc[(df['sum_d'] > 80) & (df['sum_d'] <= 95), 'ABC'] = 'B'\n",
    "df.loc[(df['sum_d'] > 95), 'ABC'] = 'C'"
   ]
  },
  {
   "cell_type": "code",
   "execution_count": 97,
   "id": "a7771899",
   "metadata": {},
   "outputs": [],
   "source": [
    "input_data = df.drop(['Факты.Товар ID','ABC'], axis=1)\n",
    "output_data = df['ABC']"
   ]
  },
  {
   "cell_type": "code",
   "execution_count": 99,
   "id": "f29a36d9",
   "metadata": {},
   "outputs": [],
   "source": [
    "X_train, X_test, Y_train, Y_test = train_test_split(df_in, df_out, test_size=0.3)"
   ]
  },
  {
   "cell_type": "code",
   "execution_count": 101,
   "id": "5119ffb7",
   "metadata": {},
   "outputs": [
    {
     "name": "stdout",
     "output_type": "stream",
     "text": [
      "Accuracy of RandomForestClassifier: 1.0\n"
     ]
    }
   ],
   "source": [
    "# первый метод\n",
    "model_1 = RandomForestClassifier()\n",
    "model_1.fit(X_train, Y_train)\n",
    "predict = model_1.predict(X_test)\n",
    "print(\"Accuracy of RandomForestClassifier:\", metrics.accuracy_score(Y_test, predict))"
   ]
  },
  {
   "cell_type": "code",
   "execution_count": 103,
   "id": "a9f4b5f2",
   "metadata": {},
   "outputs": [
    {
     "name": "stdout",
     "output_type": "stream",
     "text": [
      "Accuracy of KNeighborsClassifier: 0.7280858676207513\n"
     ]
    }
   ],
   "source": [
    "# второй метод\n",
    "model_2 = KNeighborsClassifier()\n",
    "model_2.fit(X_train, Y_train)\n",
    "predict = model_2.predict(X_test)\n",
    "print(\"Accuracy of KNeighborsClassifier:\", metrics.accuracy_score(Y_test, predict))"
   ]
  },
  {
   "cell_type": "code",
   "execution_count": 106,
   "id": "7164f805",
   "metadata": {},
   "outputs": [
    {
     "name": "stdout",
     "output_type": "stream",
     "text": [
      "Accuracy of SupportVectorMachine: 0.7620751341681574\n"
     ]
    }
   ],
   "source": [
    "# третий метод\n",
    "model_3 = svm.SVC()\n",
    "model_3.fit(X_train, Y_train)\n",
    "predict = model_3.predict(X_test)\n",
    "print(\"Accuracy of SupportVectorMachine:\", metrics.accuracy_score(Y_test, predict))"
   ]
  }
 ],
 "metadata": {
  "kernelspec": {
   "display_name": "Python 3 (ipykernel)",
   "language": "python",
   "name": "python3"
  },
  "language_info": {
   "codemirror_mode": {
    "name": "ipython",
    "version": 3
   },
   "file_extension": ".py",
   "mimetype": "text/x-python",
   "name": "python",
   "nbconvert_exporter": "python",
   "pygments_lexer": "ipython3",
   "version": "3.9.12"
  }
 },
 "nbformat": 4,
 "nbformat_minor": 5
}
