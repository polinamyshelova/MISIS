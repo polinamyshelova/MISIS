{
 "cells": [
  {
   "cell_type": "code",
   "execution_count": 94,
   "id": "0c879f5c",
   "metadata": {},
   "outputs": [
    {
     "name": "stdout",
     "output_type": "stream",
     "text": [
      "[Node with value 1]\n",
      "[Node with value 2]\n",
      "[Node with value 3]\n",
      "[Node with value Внезапно]\n",
      "[Node with value 5]\n",
      "---\n",
      "[Node with value 5]\n",
      "[Node with value Внезапно]\n",
      "[Node with value 3]\n",
      "[Node with value 2]\n",
      "[Node with value 1]\n"
     ]
    }
   ],
   "source": [
    "# Задание 1\n",
    "\n",
    "class Node(object):\n",
    "    def __init__(self, value=None, next_node=None):\n",
    "        self.value = value\n",
    "        self.next = next_node\n",
    "\n",
    "    def __str__(self):\n",
    "        return f\"[Node with value {self.value}]\"\n",
    "\n",
    "\n",
    "def print_linked_list(head):\n",
    "    cur = head\n",
    "    while cur is not None:\n",
    "        print(cur)\n",
    "        cur = cur.next\n",
    "\n",
    "h, a, b, c, d = Node(1), Node(2), Node(3), Node(\"Внезапно\"), Node(5)\n",
    "\n",
    "h.next = a\n",
    "a.next = b\n",
    "b.next = c\n",
    "c.next = d\n",
    "\n",
    "def reverse_linked_list(head, tail=None):\n",
    "    while head:\n",
    "        head.next, tail, head = tail, head, head.next\n",
    "    return tail\n",
    "\n",
    "print_linked_list(h)\n",
    "h = reverse_linked_list(h)\n",
    "print(\"---\")\n",
    "print_linked_list(h)"
   ]
  },
  {
   "cell_type": "code",
   "execution_count": 1,
   "id": "10eabc96",
   "metadata": {},
   "outputs": [
    {
     "name": "stdout",
     "output_type": "stream",
     "text": [
      "[Node with value 12]\n",
      "[Node with value 24]\n",
      "[Node with value 13]\n",
      "[Node with value 4]\n",
      "[Node with value 15]\n",
      "------\n",
      "[Node with value 4]\n",
      "[Node with value 12]\n",
      "[Node with value 13]\n",
      "[Node with value 15]\n",
      "[Node with value 24]\n"
     ]
    }
   ],
   "source": [
    "# Задание 2\n",
    "\n",
    "class Node(object):\n",
    "    def __init__(self, value=None, next_node=None):\n",
    "        self.value = value\n",
    "        self.next = next_node\n",
    "\n",
    "    def __str__(self):\n",
    "        return f\"[Node with value {self.value}]\"\n",
    "\n",
    "\n",
    "def print_linked_list(head):\n",
    "    cur = head\n",
    "    while cur is not None:\n",
    "        print(cur)\n",
    "        cur = cur.next\n",
    "\n",
    "h, a, b, c, d = Node(12), Node(24), Node(13), Node(4), Node(15)\n",
    "\n",
    "h.next = a\n",
    "a.next = b\n",
    "b.next = c\n",
    "c.next = d\n",
    "\n",
    "def swap(node_1, node_2):\n",
    "    value_1, value_2 = node_1.value, node_2.value  \n",
    "    node_1.value, node_2.value = value_2, value_1\n",
    "\n",
    "def sort_linked_list(head, prev_cur=None):\n",
    "    cur = head\n",
    "    while cur is not None:\n",
    "        next_cur = cur.next\n",
    "        prev_next_cur = cur\n",
    "        while next_cur is not None:\n",
    "            if cur.value > next_cur.value:\n",
    "                swap(cur, next_cur) \n",
    "            prev_next_cur= next_cur\n",
    "            next_cur = next_cur.next        \n",
    "        prev_curr, cur = cur, cur.next\n",
    "\n",
    "print_linked_list(h)\n",
    "sort_linked_list(h)\n",
    "print('------')\n",
    "print_linked_list(h)"
   ]
  },
  {
   "cell_type": "code",
   "execution_count": 39,
   "id": "cac165c8",
   "metadata": {},
   "outputs": [
    {
     "name": "stdout",
     "output_type": "stream",
     "text": [
      "Средний счет у курящих мужчин на ланч в пятницу: 11.39\n"
     ]
    }
   ],
   "source": [
    "# Задание 3.1\n",
    "\n",
    "import pandas as pd\n",
    "\n",
    "path = 'tips.csv'\n",
    "df = pd.read_csv(path)\n",
    "mask = (df['sex'] == 'Male') & (df['time'] == 'Lunch') & (df['smoker'] == 'Yes') & (df['day'] == 'Fri')\n",
    "bill = round(df[mask]['total_bill'].mean(), 2)\n",
    "print(f'Средний счет у курящих мужчин на ланч в пятницу: {bill}')"
   ]
  },
  {
   "cell_type": "code",
   "execution_count": 80,
   "id": "30764386",
   "metadata": {},
   "outputs": [
    {
     "name": "stdout",
     "output_type": "stream",
     "text": [
      "Iris-setosa:\n",
      "SepalLength    1.5\n",
      "SepalWidth     2.1\n",
      "PetalLength    0.9\n",
      "PetalWidth     0.5\n",
      "Name: max-min, dtype: float64\n",
      "Iris-versicolor:\n",
      "SepalLength    2.1\n",
      "SepalWidth     1.4\n",
      "PetalLength    2.1\n",
      "PetalWidth     0.8\n",
      "Name: max-min, dtype: float64\n",
      "Iris-virginica:\n",
      "SepalLength    3.0\n",
      "SepalWidth     1.6\n",
      "PetalLength    2.4\n",
      "PetalWidth     1.1\n",
      "Name: max-min, dtype: float64\n"
     ]
    }
   ],
   "source": [
    "# Задание 3.2\n",
    "\n",
    "import pandas as pd\n",
    "\n",
    "path = 'iris.csv'\n",
    "df = pd.read_csv(path)\n",
    "\n",
    "iris_setosa = df[df['Name'] == 'Iris-setosa'].describe().T\n",
    "iris_setosa['max-min'] = iris_setosa['max'] - iris_setosa['min']\n",
    "\n",
    "iris_versicolor = df[df['Name'] == 'Iris-versicolor'].describe().T\n",
    "iris_versicolor['max-min'] = iris_versicolor['max'] - iris_versicolor['min']\n",
    "\n",
    "iris_virginica = df[df['Name'] == 'Iris-virginica'].describe().T\n",
    "iris_virginica['max-min'] = iris_virginica['max'] - iris_virginica['min']\n",
    "\n",
    "print(f'Iris-setosa:\\n{iris_setosa[\"max-min\"]}')\n",
    "print(f'Iris-versicolor:\\n{iris_versicolor[\"max-min\"]}')\n",
    "print(f'Iris-virginica:\\n{iris_virginica[\"max-min\"]}')"
   ]
  },
  {
   "cell_type": "code",
   "execution_count": 92,
   "id": "95c32cc1",
   "metadata": {},
   "outputs": [
    {
     "name": "stdout",
     "output_type": "stream",
     "text": [
      "       страна  population   площадь  density\n",
      "0  Kazakhstan       17.04   2724902     6.25\n",
      "1      Russia      143.50  17125191     8.38\n",
      "2     Belarus        9.50    207600    45.76\n",
      "3     Ukraine       45.50    603628    75.38\n"
     ]
    }
   ],
   "source": [
    "# Задание 3.3\n",
    "\n",
    "import pandas as pd\n",
    "\n",
    "df = pd.DataFrame({\n",
    "     'country': ['Kazakhstan', 'Russia', 'Belarus', 'Ukraine'],\n",
    "     'population': [17.04, 143.5, 9.5, 45.5],\n",
    "     'square': [2724902, 17125191, 207600, 603628]\n",
    " })\n",
    "df['density'] = round(df['population'] / df['square'] * 1000000, 2)\n",
    "df.rename(columns={'country': 'страна', 'square': 'площадь'}, inplace=True)\n",
    "print(df)"
   ]
  }
 ],
 "metadata": {
  "kernelspec": {
   "display_name": "Python 3 (ipykernel)",
   "language": "python",
   "name": "python3"
  },
  "language_info": {
   "codemirror_mode": {
    "name": "ipython",
    "version": 3
   },
   "file_extension": ".py",
   "mimetype": "text/x-python",
   "name": "python",
   "nbconvert_exporter": "python",
   "pygments_lexer": "ipython3",
   "version": "3.9.12"
  }
 },
 "nbformat": 4,
 "nbformat_minor": 5
}
