{
 "cells": [
  {
   "cell_type": "code",
   "execution_count": 2,
   "id": "09be11b2",
   "metadata": {},
   "outputs": [
    {
     "name": "stdout",
     "output_type": "stream",
     "text": [
      "Средний балл: 3.2\n",
      "Отстающие ученики:['Дмитриев Н.', 'Котов Д.', 'Бирюкова Н.', 'Лемонов Ю.']\n"
     ]
    }
   ],
   "source": [
    "#  Задание 1\n",
    "\n",
    "poor_students, marks = [], []\n",
    "with open('students.txt', 'r', encoding='utf-8') as file:\n",
    "    for student in file:\n",
    "        mark = int(student[-2])\n",
    "        marks.append(mark)\n",
    "        if mark < 3:\n",
    "            poor_students.append(student[:-3])\n",
    "print(f'Средний балл: {round(sum(marks)/len(marks), 1)}\\nОтстающие ученики:{poor_students}')"
   ]
  },
  {
   "cell_type": "code",
   "execution_count": 1,
   "id": "16f4504e",
   "metadata": {},
   "outputs": [
    {
     "name": "stdout",
     "output_type": "stream",
     "text": [
      "Лекций: 2\n",
      "Практических: 3\n",
      "Лабораторных: 2\n"
     ]
    }
   ],
   "source": [
    "#  Задание 2\n",
    "\n",
    "lec, pract, lab = 0, 0, 0\n",
    "with open('schedule.txt', 'r', encoding='utf-8') as file:\n",
    "    for line in file:\n",
    "        if 'лекц' in line:\n",
    "            lec += 1\n",
    "        elif 'практ' in line:\n",
    "            pract += 1\n",
    "        elif 'лаб' in line:\n",
    "            lab += 1\n",
    "print('Лекций:', lec)\n",
    "print('Практических:', pract)\n",
    "print('Лабораторных:', lab)"
   ]
  },
  {
   "cell_type": "code",
   "execution_count": null,
   "id": "d9645ad5",
   "metadata": {},
   "outputs": [],
   "source": [
    "#  Задание 4\n",
    "\n",
    "import os\n",
    "for root, dirs, files in os.walk(\".\"):  \n",
    "    for filename in files:\n",
    "        print(filename)"
   ]
  },
  {
   "cell_type": "code",
   "execution_count": 19,
   "id": "700352a5",
   "metadata": {},
   "outputs": [
    {
     "name": "stdout",
     "output_type": "stream",
     "text": [
      "Самое частое слово: и\n",
      "Самое длинное слово: храброславленный\n"
     ]
    }
   ],
   "source": [
    "#  Задание 5\n",
    "\n",
    "import re\n",
    "\n",
    "with open ('poem.txt', 'r', encoding='utf-8') as file:\n",
    "    text = re.sub(r'[.,;:-?-!]', '', file.read())\n",
    "    text = text.lower().split()\n",
    "print(f'Самое частое слово: {max(text, key=text.count)}\\nСамое длинное слово: {max(text, key=len)}')"
   ]
  }
 ],
 "metadata": {
  "kernelspec": {
   "display_name": "Python 3 (ipykernel)",
   "language": "python",
   "name": "python3"
  },
  "language_info": {
   "codemirror_mode": {
    "name": "ipython",
    "version": 3
   },
   "file_extension": ".py",
   "mimetype": "text/x-python",
   "name": "python",
   "nbconvert_exporter": "python",
   "pygments_lexer": "ipython3",
   "version": "3.9.12"
  }
 },
 "nbformat": 4,
 "nbformat_minor": 5
}
