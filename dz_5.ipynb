{
 "cells": [
  {
   "cell_type": "code",
   "execution_count": 4,
   "id": "37ef0896",
   "metadata": {},
   "outputs": [
    {
     "data": {
      "text/plain": [
       "21"
      ]
     },
     "execution_count": 4,
     "metadata": {},
     "output_type": "execute_result"
    }
   ],
   "source": [
    "#  Задание 1\n",
    "\n",
    "class Student:\n",
    "    def __init__(self, name='Ivan', groupNumber='10A', age=18):\n",
    "        self.name = name\n",
    "        self.groupNumber = groupNumber\n",
    "        self.age = age\n",
    "    def getName(self):\n",
    "        return self.name\n",
    "    def getAge(self):\n",
    "        return self.age\n",
    "    def getGroupNumber(self):\n",
    "        return self.groupNumber\n",
    "    def setNameAge(self, newname, newage):\n",
    "        self.name = newname\n",
    "        self.age = newage\n",
    "    def setGroupNumber(self, newgroupNumber):\n",
    "        self.groupNumber = newgroupNumber\n",
    "\n",
    "Student_1 = Student(name='Anton', groupNumber='12', age=24)\n",
    "Student_2 = Student(name='Katya', groupNumber='11', age=23)\n",
    "Student_3 = Student(name='Alina', groupNumber='11', age=23)\n",
    "Student_4 = Student(name='Nastya', groupNumber='10', age=22)\n",
    "Student_5 = Student(name='Diman', groupNumber='10', age=21)"
   ]
  },
  {
   "cell_type": "code",
   "execution_count": 10,
   "id": "6e064716",
   "metadata": {},
   "outputs": [
    {
     "name": "stdout",
     "output_type": "stream",
     "text": [
      "Автомобиль заведен\n"
     ]
    }
   ],
   "source": [
    "#  Задание 2\n",
    "\n",
    "class Car:\n",
    "    def __init__(self, color, rang, year):\n",
    "        self.color = color\n",
    "        self.rang = rang\n",
    "        self.year = year\n",
    "    def start(self):\n",
    "        print('Автомобиль заведен')\n",
    "    def stop(self):\n",
    "        print('Автомобиль заглушен')\n",
    "    def setColor(self, color):\n",
    "        self.color = color\n",
    "    def setRang(self, rang):\n",
    "        self.rang = rang\n",
    "    def setYear(self, rang):\n",
    "        self.year = year\n",
    "        \n",
    "semerochka = Car(color='red', rang='sedan', year=1997)\n",
    "semerochka.start()"
   ]
  },
  {
   "cell_type": "code",
   "execution_count": 12,
   "id": "54b32e48",
   "metadata": {},
   "outputs": [
    {
     "name": "stdout",
     "output_type": "stream",
     "text": [
      "Nutrition p 4, c 83, f 12\n"
     ]
    }
   ],
   "source": [
    "#  Задание 3\n",
    "\n",
    "class NutritionInfo:\n",
    "    def __init__(self, proteins, carbs, fats):\n",
    "        self.proteins = proteins\n",
    "        self.carbs = carbs\n",
    "        self.fats = fats\n",
    "        \n",
    "    def __add__(self, other):\n",
    "        return NutritionInfo(self.proteins + other.proteins, self.carbs + other.carbs, self.fats + other.fats)\n",
    "    \n",
    "    def __mul__(self, amount):\n",
    "        return NutritionInfo(self.proteins * amount, self.carbs * amount, self.fats * amount)\n",
    "    \n",
    "    def __str__(self):\n",
    "        return f\"Nutrition p {self.proteins}, c {self.carbs}, f {self.fats}\"\n",
    "        \n",
    "    def energy(self):\n",
    "        return int(self.fats * 9 + (self.carbs + self.proteins) * 4.2)\n",
    "\n",
    "egg = NutritionInfo(1, 2, 3)\n",
    "pastila = NutritionInfo(1, 2, 3)\n",
    "tvorog_9 = NutritionInfo(18, 3, 9)\n",
    "apple = NutritionInfo(0, 25, 0)\n",
    "\n",
    "print(apple * 3 + egg * 4)"
   ]
  }
 ],
 "metadata": {
  "kernelspec": {
   "display_name": "Python 3 (ipykernel)",
   "language": "python",
   "name": "python3"
  },
  "language_info": {
   "codemirror_mode": {
    "name": "ipython",
    "version": 3
   },
   "file_extension": ".py",
   "mimetype": "text/x-python",
   "name": "python",
   "nbconvert_exporter": "python",
   "pygments_lexer": "ipython3",
   "version": "3.9.12"
  }
 },
 "nbformat": 4,
 "nbformat_minor": 5
}
