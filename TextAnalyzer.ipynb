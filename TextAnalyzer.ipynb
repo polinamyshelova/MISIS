{
 "cells": [
  {
   "cell_type": "code",
   "execution_count": null,
   "id": "13685642",
   "metadata": {},
   "outputs": [],
   "source": [
    "import telebot, re\n",
    "bot = telebot.TeleBot('TOKEN')\n",
    "\n",
    "def analysis(example):\n",
    "    mess = ['и', 'а', 'но', 'или', 'либо', 'что', 'чтобы', 'как', 'зато', 'в', 'на', 'под', 'над', 'с']\n",
    "    for_sentences = re.sub(r'[.!?]\\s', r'|', example)\n",
    "    sentences = len(for_sentences.split('|'))\n",
    "    text = re.sub(r'[.,;:-?-!]', '', example)\n",
    "    text = text.lower().split()\n",
    "    unique_words = len(set(text))\n",
    "    popular_words = []\n",
    "    new_text = [word for word in text if word not in mess]\n",
    "    max_word = new_text.count(max(new_text, key=new_text.count))\n",
    "    for word in new_text:\n",
    "        if new_text.count(word) == max_word:\n",
    "            popular_words.append(word)\n",
    "    return f'Количество уникальных слов: {unique_words}. Самые популярные слова {set(popular_words)} в количестве {max_word}. Количество предложений {sentences}.'\n",
    "\n",
    "\n",
    "@bot.message_handler(commands=['start'])\n",
    "def start(message):\n",
    "    bot.send_message(message.chat.id, '<b>Бот анализатор текста приветствует! Введите текст для анализа:</b>', parse_mode='html')\n",
    "\n",
    "@bot.message_handler(content_types=['text'])\n",
    "def get_message(message):\n",
    "    bot.send_message(message.chat.id, analysis(message.text))\n",
    "    \n",
    "    \n",
    "bot.polling(none_stop=True, interval=0)"
   ]
  },
  {
   "cell_type": "code",
   "execution_count": null,
   "id": "f56624f2",
   "metadata": {},
   "outputs": [],
   "source": []
  }
 ],
 "metadata": {
  "kernelspec": {
   "display_name": "Python 3 (ipykernel)",
   "language": "python",
   "name": "python3"
  },
  "language_info": {
   "codemirror_mode": {
    "name": "ipython",
    "version": 3
   },
   "file_extension": ".py",
   "mimetype": "text/x-python",
   "name": "python",
   "nbconvert_exporter": "python",
   "pygments_lexer": "ipython3",
   "version": "3.9.12"
  }
 },
 "nbformat": 4,
 "nbformat_minor": 5
}
