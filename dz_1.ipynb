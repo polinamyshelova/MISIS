{
 "cells": [
  {
   "cell_type": "code",
   "execution_count": 9,
   "id": "335379e2",
   "metadata": {},
   "outputs": [
    {
     "name": "stdout",
     "output_type": "stream",
     "text": [
      "1500\n",
      "0:0:25:0\n"
     ]
    }
   ],
   "source": [
    "#  Задание 1\n",
    "\n",
    "sec = int(input())\n",
    "timing = {'days':sec // 86400, 'hours':sec // 3600, 'minutes':sec % 3600 // 60, 'sec':sec % 60}\n",
    "print(f\"{timing['days']}:{timing['hours']}:{timing['minutes']}:{timing['sec']}\")"
   ]
  },
  {
   "cell_type": "code",
   "execution_count": 15,
   "id": "63777593",
   "metadata": {},
   "outputs": [
    {
     "name": "stdout",
     "output_type": "stream",
     "text": [
      "170\n",
      "30\n",
      "-\n",
      "140.0\n"
     ]
    }
   ],
   "source": [
    "# Задание 2\n",
    "\n",
    "a, b, sign = float(input()), float(input()), input()\n",
    "operations = {'+': a + b, '-': a - b, '*': a * b, '/': a / b}\n",
    "print(operations[sign])"
   ]
  },
  {
   "cell_type": "code",
   "execution_count": 16,
   "id": "ed4bd616",
   "metadata": {},
   "outputs": [
    {
     "name": "stdout",
     "output_type": "stream",
     "text": [
      "polina\n",
      "myshelova\n",
      "polina$myshelova\n",
      "polina$myshelova\n"
     ]
    }
   ],
   "source": [
    "# Задание 3\n",
    "\n",
    "a, b = input(), input()\n",
    "print(a + '$' + b)\n",
    "print(a, b, sep='$')"
   ]
  },
  {
   "cell_type": "code",
   "execution_count": 29,
   "id": "52aac868",
   "metadata": {},
   "outputs": [
    {
     "name": "stdout",
     "output_type": "stream",
     "text": [
      "Polina\n",
      "23\n",
      "С Днём Рождения, Polina!\n",
      "С Днём Рождения, Polina!\n",
      "С Днём Рождения, Polina!\n",
      "С Днём Рождения, Polina!\n",
      "С Днём Рождения, Polina!\n",
      "С Днём Рождения, Polina!\n",
      "С Днём Рождения, Polina!\n",
      "С Днём Рождения, Polina!\n",
      "С Днём Рождения, Polina!\n",
      "С Днём Рождения, Polina!\n",
      "С Днём Рождения, Polina!\n",
      "С Днём Рождения, Polina!\n",
      "С Днём Рождения, Polina!\n",
      "С Днём Рождения, Polina!\n",
      "С Днём Рождения, Polina!\n",
      "С Днём Рождения, Polina!\n",
      "С Днём Рождения, Polina!\n",
      "С Днём Рождения, Polina!\n",
      "С Днём Рождения, Polina!\n",
      "С Днём Рождения, Polina!\n",
      "С Днём Рождения, Polina!\n",
      "С Днём Рождения, Polina!\n",
      "С Днём Рождения, Polina!\n"
     ]
    }
   ],
   "source": [
    "# Задание 4\n",
    "\n",
    "name, age = input(), int(input())\n",
    "print(*[f'С Днём Рождения, {name}!' for _ in range(age)], sep='\\n')"
   ]
  },
  {
   "cell_type": "code",
   "execution_count": null,
   "id": "7d13c9ed",
   "metadata": {},
   "outputs": [],
   "source": []
  }
 ],
 "metadata": {
  "kernelspec": {
   "display_name": "Python 3 (ipykernel)",
   "language": "python",
   "name": "python3"
  },
  "language_info": {
   "codemirror_mode": {
    "name": "ipython",
    "version": 3
   },
   "file_extension": ".py",
   "mimetype": "text/x-python",
   "name": "python",
   "nbconvert_exporter": "python",
   "pygments_lexer": "ipython3",
   "version": "3.9.12"
  }
 },
 "nbformat": 4,
 "nbformat_minor": 5
}
