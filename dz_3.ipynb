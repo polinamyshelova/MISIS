{
 "cells": [
  {
   "cell_type": "code",
   "execution_count": 3,
   "id": "dd53bad5",
   "metadata": {},
   "outputs": [
    {
     "name": "stdout",
     "output_type": "stream",
     "text": [
      "5\n",
      "0\n",
      "1\n"
     ]
    }
   ],
   "source": [
    "#  Задание 1\n",
    "\n",
    "def root(x, n=2):\n",
    "    return round(x**(1/n)) if n else 1\n",
    "\n",
    "x, n = int(input()), int(input())\n",
    "print(root(x, n))"
   ]
  },
  {
   "cell_type": "code",
   "execution_count": 7,
   "id": "b90d9fa5",
   "metadata": {},
   "outputs": [
    {
     "data": {
      "text/plain": [
       "'YES'"
      ]
     },
     "execution_count": 7,
     "metadata": {},
     "output_type": "execute_result"
    }
   ],
   "source": [
    "#  Задание 2\n",
    "\n",
    "def extensions(file, ext):\n",
    "    i = file[::-1].index('.')\n",
    "    return 'YES' if file[::-1][:i][::-1] in ext else 'NO'\n",
    "\n",
    "file='Моя диссертац.jpeg'\n",
    "ext = ['png', 'jpg', 'jpeg', 'gif', 'svg']\n",
    "extensions(file, ext)"
   ]
  },
  {
   "cell_type": "code",
   "execution_count": 11,
   "id": "4c5bdd25",
   "metadata": {},
   "outputs": [
    {
     "name": "stdout",
     "output_type": "stream",
     "text": [
      "{1: 10, 2: 20, 3: 30, 4: 40, 5: 50, 6: 60}\n"
     ]
    }
   ],
   "source": [
    "#  Задание 3\n",
    "\n",
    "dict_a = {1:10, 2:20}\n",
    "dict_b = {3:30, 4:40}\n",
    "dict_c = {5:50, 6:60}\n",
    "print(dict_a | dict_b | dict_c)"
   ]
  },
  {
   "cell_type": "code",
   "execution_count": 13,
   "id": "ea589f35",
   "metadata": {},
   "outputs": [
    {
     "name": "stdout",
     "output_type": "stream",
     "text": [
      "55555555\n"
     ]
    },
    {
     "data": {
      "text/plain": [
       "40"
      ]
     },
     "execution_count": 13,
     "metadata": {},
     "output_type": "execute_result"
    }
   ],
   "source": [
    "#  Задание 4\n",
    "\n",
    "def sum_of_digits(num):\n",
    "    total = 0\n",
    "    while(num != 0):\n",
    "        total += num % 10\n",
    "        num //= 10\n",
    "    return total\n",
    "        \n",
    "num = int(input())\n",
    "sum_of_digits(num)"
   ]
  },
  {
   "cell_type": "code",
   "execution_count": 20,
   "id": "a3607935",
   "metadata": {},
   "outputs": [
    {
     "name": "stdout",
     "output_type": "stream",
     "text": [
      "22 23 22 1 45 45\n",
      "NO\n"
     ]
    }
   ],
   "source": [
    "#  Задание 5\n",
    "\n",
    "numbers = input().split()\n",
    "print('YES' if len(set(numbers)) == len(numbers) else 'NO')"
   ]
  },
  {
   "cell_type": "code",
   "execution_count": 25,
   "id": "798e9e8a",
   "metadata": {},
   "outputs": [
    {
     "name": "stdout",
     "output_type": "stream",
     "text": [
      "НОМЕР 0 --> я\n",
      "НОМЕР 1 --> не\n",
      "НОМЕР 2 --> в\n",
      "НОМЕР 3 --> отпуск\n"
     ]
    }
   ],
   "source": [
    "#  Задание 6\n",
    "\n",
    "def print_list(my_list):\n",
    "    for i in range(len(my_list)):\n",
    "        print('НОМЕР', i, '-->', my_list[i])\n",
    "\n",
    "print_list([\"я\", \"не\", \"в\", \"отпуск\"])"
   ]
  },
  {
   "cell_type": "code",
   "execution_count": 32,
   "id": "b24f792e",
   "metadata": {},
   "outputs": [
    {
     "name": "stdout",
     "output_type": "stream",
     "text": [
      "key1 <> --> 2\n",
      "key3 <> --> False\n",
      "Приветствие <> --> Hello\n"
     ]
    }
   ],
   "source": [
    "#  Задание 6.1\n",
    "\n",
    "def print_dict(my_dict):\n",
    "    for key, value in my_dict.items():\n",
    "        print(key, '<> -->', value)\n",
    "\n",
    "print_dict({\"key1\": 2, \"key3\": False, \"Приветствие\": \"Hello\"})"
   ]
  },
  {
   "cell_type": "code",
   "execution_count": 33,
   "id": "f74995f2",
   "metadata": {},
   "outputs": [
    {
     "name": "stdout",
     "output_type": "stream",
     "text": [
      "1\n",
      "НОМЕР 0 --> 1\n",
      "НОМЕР 1 --> 2\n",
      "НОМЕР 2 --> 3\n",
      "НОМЕР 3 --> 4\n",
      "Hello\n",
      "ciao <> --> Mondo\n",
      "Привет <> --> О дивный мир\n"
     ]
    }
   ],
   "source": [
    "#  Задание 6.2\n",
    "\n",
    "def print_list(my_list):\n",
    "    for i in range(len(my_list)):\n",
    "        print('НОМЕР', i, '-->', my_list[i])\n",
    "        \n",
    "def print_dict(my_dict):\n",
    "    for key, value in my_dict.items():\n",
    "        print(key, '<> -->', value)\n",
    "\n",
    "def print_overlord(mydict):\n",
    "    for value in mydict.values():\n",
    "        if isinstance(value, list):\n",
    "            print_list(value)\n",
    "        elif isinstance(value, dict):\n",
    "            print_dict(value)\n",
    "        else:\n",
    "            print(value)\n",
    "\n",
    "print_overlord(dict(key1=1,\n",
    "            key2=[1, 2, 3, 4], \n",
    "            key3='Hello', \n",
    "            key4={\"ciao\":\"Mondo\", \"Привет\": \"О дивный мир\"}))"
   ]
  },
  {
   "cell_type": "code",
   "execution_count": 37,
   "id": "2dc539f0",
   "metadata": {},
   "outputs": [
    {
     "name": "stdout",
     "output_type": "stream",
     "text": [
      "Тут\n",
      "фраза\n",
      "с\n",
      "пробелами\n",
      "и\n",
      "я\n",
      "хочу\n",
      "их\n",
      "распечатать\n",
      "по\n",
      "одному\n",
      "на\n",
      "строку\n",
      "и\n",
      "ещё\n",
      "посчитать\n",
      "слова\n",
      "17\n"
     ]
    }
   ],
   "source": [
    "#  *Задание 1\n",
    "\n",
    "def word_count(phrase):\n",
    "    for word in phrase.split():\n",
    "        print(word)\n",
    "    print(len(phrase.split()))\n",
    "   \n",
    "word_count(\"Тут фраза с пробелами и я хочу их распечатать по одному на строку и ещё посчитать слова\")"
   ]
  },
  {
   "cell_type": "code",
   "execution_count": 4,
   "id": "a30d0726",
   "metadata": {},
   "outputs": [
    {
     "name": "stdout",
     "output_type": "stream",
     "text": [
      "b 80.0 %\n",
      "b 80.0 %\n",
      "b 80.0 %\n",
      "b 80.0 %\n",
      "a 20.0 %\n",
      "5\n"
     ]
    }
   ],
   "source": [
    "#  *Задание 2\n",
    "\n",
    "def word_count(phrase):\n",
    "    my_list = phrase.split()\n",
    "    for word in my_list:\n",
    "        print(word, round(my_list.count(word)/len(my_list)*100, 2), '%')\n",
    "    print(len(my_list))\n",
    "   \n",
    "word_count(\"b b b b a\")"
   ]
  }
 ],
 "metadata": {
  "kernelspec": {
   "display_name": "Python 3 (ipykernel)",
   "language": "python",
   "name": "python3"
  },
  "language_info": {
   "codemirror_mode": {
    "name": "ipython",
    "version": 3
   },
   "file_extension": ".py",
   "mimetype": "text/x-python",
   "name": "python",
   "nbconvert_exporter": "python",
   "pygments_lexer": "ipython3",
   "version": "3.9.12"
  }
 },
 "nbformat": 4,
 "nbformat_minor": 5
}
